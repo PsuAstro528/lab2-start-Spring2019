{
  "cells": [
    {
      "cell_type": "markdown",
      "source": [
        "# Astro 585 Lab 2, Exercise 1\n\n## Benchmarking Code\n\n\nJulia provides several tools for measuring code performance. Perhaps the simplest way is using the [`@time`](https://docs.julialang.org/en/v1.0/base/base/#Base.@time) or [`@elapsed`](https://docs.julialang.org/en/v1.0/base/base/#Base.@elapsed) macros, such as"
      ],
      "metadata": {}
    },
    {
      "outputs": [],
      "cell_type": "code",
      "source": [
        "@time randn(1000);"
      ],
      "metadata": {},
      "execution_count": null
    },
    {
      "cell_type": "markdown",
      "source": [
        "The `@time` macro prints the time, but returns the value of the following expression. The `@elapsed` macro discards the following expressions return value and returns the elapsed time evaluating the expression. There are even more sophisticated macros in the [BenchmarkTools.jl](https://github.com/JuliaCI/BenchmarkTools.jl) package which provides `@btime` and `@belapsed` that provide outputs similar to `@time` and `@elapsed`, but take longer than @time, since it runs the code multiple times in an attempt to give more accurate results.  It also provides a `@benchmkark` macro that provides more detailed information.  \n\na) For several common mathematical functions, calculate how many million evaluations your computer performs per second.  \nTry a few arithmatic operations, a couple of trig functions, and a logarithm. For example,"
      ],
      "metadata": {}
    },
    {
      "outputs": [],
      "cell_type": "code",
      "source": [
        "# First, let's install all the packages that will be used for this lab\nusing Pkg\nPkg.activate(\"test\") # Tell Julia to look in test directory to find Project.toml\nPkg.instantiate()    # Tell Julia to install any packages needed for this assignment"
      ],
      "metadata": {},
      "execution_count": null
    },
    {
      "outputs": [],
      "cell_type": "code",
      "source": [
        "using BenchmarkTools"
      ],
      "metadata": {},
      "execution_count": null
    },
    {
      "outputs": [],
      "cell_type": "code",
      "source": [
        "function my_benchmarks(N::Integer)\n   x = randn(N)\n   y = randn(N)\n   println(\"rand:  \", N/(@belapsed rand($N)), \" M evals/sec\");\n   println(\".+  :  \", N/(@belapsed $x.+$y), \" M evals/sec\");\n   # INSERT CODE\nend\n\nn_list = [1, 10, 100]\nfor n in n_list\n    println(\"# N = \",n)\n    my_benchmarks(n)\nend"
      ],
      "metadata": {},
      "execution_count": null
    },
    {
      "cell_type": "markdown",
      "source": [
        "a.  How much longer did it take to compute a trig function than simple arithmetic?\nHow much longer did it take to compute a logarithm than simple arithmetic?\n\nINSERT RESPONCE\n\nb.  Did the number of evaluations per second vary significantly depending on the number of elements in the array?  \nHow large of an array was necessary before the performance reached its asymptote?\n\nINSERT RESPONCE\n\n\n## Memory Requirements for Linear Algebra Problems^[1]\n\nConsider a modern laptop with 4 GB (=4\\*2^30) of usable memory. Assume it uses 8 bytes of memory to store each floating point number (i.e., Float64, double precision, real\\*8). \n\n### Theory\n\nc. What is the largest matrix that the above computer could fit into its available memory at one time?  (Feel free to write code to compute the answer.)\n\nINSERT RESPONCE\n\n\nd. Estimate how long would it take to solve the maximum size linear system that would fit into memory at once, if we use LU factorization to solve a linear system.  You may assume the computation is maximally efficient, the computer reaches peak performance and the LU decomposition requires $(2/3)*N^3$ flops, where $N$ refers to the number of rows in the square array being factorized.\nUse an approximation for the number of floating point operations per second based on your results above.\n\nINSERT RESPONCE\n\n\ne. Does memory or compute time limit the size of system that can be practically solved with LU decomposition for this modern laptop?\n            \nINSERT RESPONCE\n\nf. Now consider a high-end server with 1TB of RAM (such as ICS-ACI's high-memory nodes).  \nWhat is the maximum size linear system that would fit into its memory at once?  How long do you estimate it would take (assuming performance similar to the system you're using)?\n            \nINSERT RESPONCE\n\n### In practice\n\ng. Following your work above, estimate how long it would take to solve a linear system with $N=100$ via LU factorization.  \n\nINSERT RESPONCE\n\nh.  Benchmark how long it actually takes to solve a linear system with $N=100$ via [LU factorization](https://docs.julialang.org/en/v1/stdlib/LinearAlgebra/index.html#LinearAlgebra.lu) and the [\"left division operator\" (`\\`)](https://docs.julialang.org/en/v1/base/math/#Base.:\\\\-Tuple{Any,Any}) using the following function and `@time` (_not_ `@btime`).  Repeat two more times."
      ],
      "metadata": {}
    },
    {
      "outputs": [],
      "cell_type": "code",
      "source": [
        "# Create problem data\nN = 100\nA = rand(N,N)\nx = rand(N)\ny = A*x\nusing LinearAlgebra\n\nfunction solve_Ax_via_LU_factorization(A::Matrix, x::Vector)\n   F = lu(A)   # [See manulal](https://docs.julialang.org/en/v1/stdlib/LinearAlgebra/index.html#LinearAlgebra.lu)\n   x = F \\ y\nend\n\n@time x1 = solve_Ax_via_LU_factorization(A,x)\n@time x2 = solve_Ax_via_LU_factorization(A,x)\n@time x3 = solve_Ax_via_LU_factorization(A,x);"
      ],
      "metadata": {},
      "execution_count": null
    },
    {
      "cell_type": "markdown",
      "source": [
        "i.  Is there any noticeable difference in your three results?  If so, what do you think explains the difference?  \n\nINSERT RESPONCE\n\nj.  Now, try try benchmarking the same code using the `@benchmark` macro.  (This will take several seconds.)"
      ],
      "metadata": {}
    },
    {
      "outputs": [],
      "cell_type": "code",
      "source": [
        "@benchmark solve_Ax_via_LU_factorization($A,$x)"
      ],
      "metadata": {},
      "execution_count": null
    },
    {
      "cell_type": "markdown",
      "source": [
        "k.  Is there a significant different between the minimum and maximum time required?  If so, what do you think is the biggest effect in explaining the difference?  Which output do you think is most relevant for your typical scientific applications?  \n\nINSERT RESPONSE\n\nl.  How does your result compare to what you estimated analytically in part g?\n\nINSERT RESPONSE\n\n## Scaling with Problem Size\n\nm.  Next, lets consider several relatively small problem sizes (e.g., no larger than a few hundred) and benchmark `solve_Ax_via_LU_factorization` to see how the performance scales as we increase $N$.  Plot the results on a log-log scale."
      ],
      "metadata": {}
    },
    {
      "outputs": [],
      "cell_type": "code",
      "source": [
        "N_list = 2 .^(1:9)\ntime_list = zeros(length(N_list))\nfor i in 1:length(N_list)\n  N = N_list[i]\n  A = rand(N,N)\n  x = rand(N)\n  y = A*x\n  time_list[i] = @belapsed solve_Ax_via_LU_factorization(A,x)\nend\ntime_list"
      ],
      "metadata": {},
      "execution_count": null
    },
    {
      "outputs": [],
      "cell_type": "code",
      "source": [
        "using Plots"
      ],
      "metadata": {},
      "execution_count": null
    },
    {
      "outputs": [],
      "cell_type": "code",
      "source": [
        "time_for_one_fma = @belapsed 17.0*π+4.0\nmodel_list = time_for_one_fma * 2//3 .* N_list.^3 \nplot(log10.(N_list),log10.(model_list), xlabel=\"log N\", ylabel = \"log Time (s)\", label=\"Model\", legend=:bottomright) \nscatter!(log10.(N_list),log10.(time_list), label=\"Actual\")"
      ],
      "metadata": {},
      "execution_count": null
    },
    {
      "cell_type": "markdown",
      "source": [
        "n. How does the actual performance compare the analytic model?  What is your guess for the cause of any deviations?\n\nINSERT RESPONCE\n\n\no. For real life problems, what other considerations are likely to limit performance?\n\nINSERT RESPONCE\n\n\np. How could one practically solve even larger linear systems?\n\nINSERT RESPONCE\n\n\n[^1]: Acknowledgment:  The questions in this subsection are based on Oliveira & Stewarts Writing Scientific Software, Chapter 5, Problem #6."
      ],
      "metadata": {}
    },
    {
      "outputs": [],
      "cell_type": "code",
      "source": [
        ""
      ],
      "metadata": {},
      "execution_count": null
    }
  ],
  "nbformat_minor": 2,
  "metadata": {
    "language_info": {
      "file_extension": ".jl",
      "mimetype": "application/julia",
      "name": "julia",
      "version": "1.0.2"
    },
    "kernelspec": {
      "name": "julia-1.0",
      "display_name": "Julia 1.0.2",
      "language": "julia"
    }
  },
  "nbformat": 4
}

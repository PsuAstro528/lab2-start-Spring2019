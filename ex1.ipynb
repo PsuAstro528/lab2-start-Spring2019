{
 "cells": [
  {
   "cell_type": "markdown",
   "metadata": {},
   "source": [
    "# Astro 585 Lab 2, Exercise 1\n",
    "\n",
    "## Benchmarking Code\n",
    "\n",
    "\n",
    "Julia provides several tools for measuring code performance. Perhaps the simplest way is using the [`@time`](https://docs.julialang.org/en/v1.0/base/base/#Base.@time) or [`@elapsed`](https://docs.julialang.org/en/v1.0/base/base/#Base.@elapsed) macros, such as"
   ]
  },
  {
   "cell_type": "code",
   "execution_count": null,
   "metadata": {},
   "outputs": [],
   "source": [
    "@time rand(1000);"
   ]
  },
  {
   "cell_type": "markdown",
   "metadata": {},
   "source": [
    "The `@time` macro prints the time, but returns the value of the following expression. The `@elapsed` macro discards the following expressions return value and returns the elapsed time evaluating the expression. There are even more sophisticated macros in the [BenchmarkTools.jl](https://github.com/JuliaCI/BenchmarkTools.jl) package which provides `@btime` and `@belapsed` that provide outputs similar to `@time` and `@elapsed`, but take longer than @time, since it runs the code multiple times in an attempt to give more accurate results.  It also provides a `@benchmkark` macro that provides more detailed information.  \n",
    "\n",
    "a) For several common mathematical functions, calculate how many million evaluations your computer performs per second.  \n",
    "Try a few arithmatic operations, a couple of trig functions, and a logarithm. For example,"
   ]
  },
  {
   "cell_type": "code",
   "execution_count": null,
   "metadata": {},
   "outputs": [],
   "source": [
    "# First, let's install all the packages that will be used for this lab\n",
    "using Pkg\n",
    "Pkg.activate(\"test\") # Tell Julia to look in test directory to find Project.toml\n",
    "Pkg.instantiate()    # Tell Julia to install any packages needed for this assignment"
   ]
  },
  {
   "cell_type": "code",
   "execution_count": null,
   "metadata": {},
   "outputs": [],
   "source": [
    "using BenchmarkTools"
   ]
  },
  {
   "cell_type": "code",
   "execution_count": null,
   "metadata": {},
   "outputs": [],
   "source": [
    "function my_benchmarks(N::Integer)\n",
    "   x = rand(N)\n",
    "   y = rand(N)\n",
    "   println(\"rand:  \", N/(@belapsed rand($N)), \" evals/sec\");\n",
    "   println(\".+  :  \", N/(@belapsed $x.+$y), \" evals/sec\");\n",
    "   # INSERT CODE\n",
    "end\n",
    "\n",
    "n_list = [1, 10, 100]\n",
    "for n in n_list\n",
    "    println(\"# N = \",n)\n",
    "    my_benchmarks(n)\n",
    "end"
   ]
  },
  {
   "cell_type": "markdown",
   "metadata": {},
   "source": [
    "a.  How much longer did it take to compute a trig function than simple arithmetic?\n",
    "How much longer did it take to compute a logarithm than simple arithmetic?\n",
    "\n",
    "INSERT RESPONCE\n",
    "\n",
    "b.  Did the number of evaluations per second vary significantly depending on the number of elements in the array?  \n",
    "How large of an array was necessary before the performance reached its asymptote?\n",
    "\n",
    "INSERT RESPONCE\n",
    "\n",
    "\n",
    "## Memory Requirements for Linear Algebra Problems^[1]\n",
    "\n",
    "Consider a modern laptop with 4 GB (=4\\*2^30) of usable memory. Assume it uses 8 bytes of memory to store each floating point number (i.e., Float64, double precision, real\\*8). \n",
    "\n",
    "### Theory\n",
    "\n",
    "c. What is the largest matrix that the above computer could fit into its available memory at one time?  (Feel free to write code to compute the answer.)\n",
    "\n",
    "INSERT RESPONCE\n",
    "\n",
    "\n",
    "d. Estimate how long would it take to solve the maximum size linear system that would fit into memory at once, if we use LU factorization to solve a linear system.  You may assume the computation is maximally efficient, the computer reaches peak performance and the LU decomposition requires $(2/3)*N^3$ flops, where $N$ refers to the number of rows in the square array being factorized.\n",
    "Use an approximation for the number of floating point operations per second based on your results above.\n",
    "\n",
    "INSERT RESPONCE\n",
    "\n",
    "\n",
    "e. Does memory or compute time limit the size of system that can be practically solved with LU decomposition for this modern laptop?\n",
    "            \n",
    "INSERT RESPONCE\n",
    "\n",
    "f. Now consider a high-end server with 1TB of RAM (such as ICS-ACI's high-memory nodes).  \n",
    "What is the maximum size linear system that would fit into its memory at once?  How long do you estimate it would take (assuming performance similar to the system you're using)?\n",
    "            \n",
    "INSERT RESPONCE\n",
    "\n",
    "### In practice\n",
    "\n",
    "g. Following your work above, estimate how long it would take to solve a linear system with $N=100$ via LU factorization.  \n",
    "\n",
    "INSERT RESPONCE\n",
    "\n",
    "h.  Benchmark how long it actually takes to solve a linear system with $N=100$ via [LU factorization](https://docs.julialang.org/en/v1/stdlib/LinearAlgebra/index.html#LinearAlgebra.lu) and the [\"left division operator\" (`\\`)](https://docs.julialang.org/en/v1/base/math/#Base.:\\\\-Tuple{Any,Any}) using the following function and `@time` (_not_ `@btime`).  Repeat two more times."
   ]
  },
  {
   "cell_type": "code",
   "execution_count": null,
   "metadata": {},
   "outputs": [],
   "source": [
    "# Create problem data\n",
    "N = 100\n",
    "A = rand(N,N)\n",
    "x = rand(N)\n",
    "y = A*x\n",
    "using LinearAlgebra\n",
    "\n",
    "function solve_Ax_via_LU_factorization(A::Matrix, x::Vector)\n",
    "   F = lu(A)   # [See manulal](https://docs.julialang.org/en/v1/stdlib/LinearAlgebra/index.html#LinearAlgebra.lu)\n",
    "   x = F \\ y\n",
    "end\n",
    "\n",
    "@time x1 = solve_Ax_via_LU_factorization(A,x)\n",
    "@time x2 = solve_Ax_via_LU_factorization(A,x)\n",
    "@time x3 = solve_Ax_via_LU_factorization(A,x);"
   ]
  },
  {
   "cell_type": "markdown",
   "metadata": {},
   "source": [
    "i.  Is there any noticeable difference in your three results?  If so, what do you think explains the difference?  \n",
    "\n",
    "INSERT RESPONCE\n",
    "\n",
    "j.  Now, try try benchmarking the same code using the `@benchmark` macro.  (This will take several seconds.)"
   ]
  },
  {
   "cell_type": "code",
   "execution_count": null,
   "metadata": {},
   "outputs": [],
   "source": [
    "@benchmark solve_Ax_via_LU_factorization($A,$x)"
   ]
  },
  {
   "cell_type": "markdown",
   "metadata": {},
   "source": [
    "k.  Is there a significant different between the minimum and maximum time required?  If so, what do you think is the biggest effect in explaining the difference?  Which output do you think is most relevant for your typical scientific applications?  \n",
    "\n",
    "INSERT RESPONSE\n",
    "\n",
    "l.  How does your result compare to what you estimated analytically in part g?\n",
    "\n",
    "INSERT RESPONSE\n",
    "\n",
    "## Scaling with Problem Size\n",
    "\n",
    "m.  Next, lets consider several relatively small problem sizes (e.g., no larger than a few hundred) and benchmark `solve_Ax_via_LU_factorization` to see how the performance scales as we increase $N$.  Plot the results on a log-log scale."
   ]
  },
  {
   "cell_type": "code",
   "execution_count": null,
   "metadata": {},
   "outputs": [],
   "source": [
    "N_list = 2 .^(1:9)\n",
    "time_list = zeros(length(N_list))\n",
    "for i in 1:length(N_list)\n",
    "  N = N_list[i]\n",
    "  A = rand(N,N)\n",
    "  x = rand(N)\n",
    "  y = A*x\n",
    "  time_list[i] = @belapsed solve_Ax_via_LU_factorization(A,x)\n",
    "end\n",
    "time_list"
   ]
  },
  {
   "cell_type": "code",
   "execution_count": null,
   "metadata": {},
   "outputs": [],
   "source": [
    "using Plots"
   ]
  },
  {
   "cell_type": "code",
   "execution_count": null,
   "metadata": {},
   "outputs": [],
   "source": [
    "time_for_one_fma = @belapsed 17.0*π+4.0\n",
    "model_list = time_for_one_fma * 2//3 .* N_list.^3 \n",
    "plot(log10.(N_list),log10.(model_list), xlabel=\"log N\", ylabel = \"log Time (s)\", label=\"Model\", legend=:bottomright) \n",
    "scatter!(log10.(N_list),log10.(time_list), label=\"Actual\")"
   ]
  },
  {
   "cell_type": "markdown",
   "metadata": {},
   "source": [
    "n. How does the actual performance compare the analytic model?  What is your guess for the cause of any deviations?\n",
    "\n",
    "INSERT RESPONCE\n",
    "\n",
    "\n",
    "o. For real life problems, what other considerations are likely to limit performance?\n",
    "\n",
    "INSERT RESPONCE\n",
    "\n",
    "\n",
    "p. How could one practically solve even larger linear systems?\n",
    "\n",
    "INSERT RESPONCE\n",
    "\n",
    "\n",
    "[^1]: Acknowledgment:  The questions in this subsection are based on Oliveira & Stewarts Writing Scientific Software, Chapter 5, Problem #6."
   ]
  },
  {
   "cell_type": "code",
   "execution_count": null,
   "metadata": {},
   "outputs": [],
   "source": []
  }
 ],
 "metadata": {
  "kernelspec": {
   "display_name": "Julia 1.0.2",
   "language": "julia",
   "name": "julia-1.0"
  },
  "language_info": {
   "file_extension": ".jl",
   "mimetype": "application/julia",
   "name": "julia",
   "version": "1.0.2"
  }
 },
 "nbformat": 4,
 "nbformat_minor": 2
}
